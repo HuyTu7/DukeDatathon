{
 "cells": [
  {
   "cell_type": "markdown",
   "metadata": {},
   "source": [
    "# Python Tutorial for LinkUp Data"
   ]
  },
  {
   "cell_type": "markdown",
   "metadata": {},
   "source": [
    "You should install the following packages (through `pip install`) prior to proceeding:\n",
    "* **matplotlib** (http://matplotlib.org)\n",
    "* **numpy** (http://www.numpy.org)\n",
    "* **pandas** (http://pandas.pydata.org)\n",
    "* **seaborn** (http://seaborn.pydata.org)\n",
    "* **sklearn** (http://scikit-learn.org/stable/)\n",
    "\n",
    "Tutorial links (if they exist) are listed above in parentheses next to their respective packages.\n",
    "\n",
    "Finally, you can get nice geographic maps by installing **basemap**:\n",
    "\n",
    "`pip install https://github.com/matplotlib/basemap/archive/v1.0.7rel.tar.gz`\n",
    "\n",
    "If this does not work for you, first install Anaconda by following the instructions in one of the following links:\n",
    "\n",
    "* https://docs.continuum.io/anaconda/install\n",
    "* https://conda.io/docs/install/full.html\n",
    "\n",
    "and then running `conda install basemap`.\n",
    "\n",
    "The **basemap** package is very sophisticated and has lots of options. Here are some helpful links:\n",
    "\n",
    "* http://matplotlib.org/basemap/\n",
    "* http://www.datadependence.com/2016/06/creating-map-visualisations-in-python/\n",
    "* http://basemaptutorial.readthedocs.io/en/latest/"
   ]
  },
  {
   "cell_type": "code",
   "execution_count": 1,
   "metadata": {
    "collapsed": true
   },
   "outputs": [],
   "source": [
    "import csv\n",
    "import numpy as np\n",
    "import pandas as pd\n",
    "import seaborn as sns\n",
    "import sklearn as skl\n",
    "import matplotlib\n",
    "import matplotlib.pyplot as plt\n",
    "%matplotlib inline"
   ]
  },
  {
   "cell_type": "markdown",
   "metadata": {},
   "source": [
    "## Brief tutorial on how to read companies and jobs data into pandas dataframes\n",
    "\n",
    "For faster reads, consider saving these files locally instead of using the web endpoints."
   ]
  },
  {
   "cell_type": "code",
   "execution_count": 2,
   "metadata": {
    "collapsed": false
   },
   "outputs": [],
   "source": [
    "companies = pd.read_csv(\"https://s3-us-west-2.amazonaws.com/correlation1-public/DukeDatathon2017/companies.csv\")"
   ]
  },
  {
   "cell_type": "code",
   "execution_count": 3,
   "metadata": {
    "collapsed": false
   },
   "outputs": [
    {
     "data": {
      "text/html": [
       "<div>\n",
       "<table border=\"1\" class=\"dataframe\">\n",
       "  <thead>\n",
       "    <tr style=\"text-align: right;\">\n",
       "      <th></th>\n",
       "      <th>company_id</th>\n",
       "      <th>name</th>\n",
       "      <th>last_scrape_date</th>\n",
       "      <th>first_scrape_date</th>\n",
       "      <th>city</th>\n",
       "      <th>state</th>\n",
       "      <th>country</th>\n",
       "      <th>ticker_main</th>\n",
       "      <th>ticker_ric</th>\n",
       "      <th>entity_id</th>\n",
       "      <th>bloomberg_id</th>\n",
       "      <th>scraping_url</th>\n",
       "      <th>trc_business_sector</th>\n",
       "      <th>trc_economic_sector</th>\n",
       "      <th>trc_industry_sector</th>\n",
       "      <th>trc_industry_group</th>\n",
       "    </tr>\n",
       "  </thead>\n",
       "  <tbody>\n",
       "    <tr>\n",
       "      <th>0</th>\n",
       "      <td>1</td>\n",
       "      <td>Target</td>\n",
       "      <td>4/17/17</td>\n",
       "      <td>12/11/07</td>\n",
       "      <td>Minneapolis</td>\n",
       "      <td>MN</td>\n",
       "      <td>US</td>\n",
       "      <td>22560.0</td>\n",
       "      <td>TGT</td>\n",
       "      <td>TGT.N</td>\n",
       "      <td>TGT</td>\n",
       "      <td>http://www.target.com</td>\n",
       "      <td>Retailers</td>\n",
       "      <td>Consumer Cyclicals</td>\n",
       "      <td>Discount Stores</td>\n",
       "      <td>Diversified Retail</td>\n",
       "    </tr>\n",
       "    <tr>\n",
       "      <th>1</th>\n",
       "      <td>2</td>\n",
       "      <td>General Mills  Inc.</td>\n",
       "      <td>4/17/17</td>\n",
       "      <td>11/24/07</td>\n",
       "      <td>Minneapolis</td>\n",
       "      <td>MN</td>\n",
       "      <td>US</td>\n",
       "      <td>24428.0</td>\n",
       "      <td>GIS</td>\n",
       "      <td>GIS.N</td>\n",
       "      <td>GIS</td>\n",
       "      <td>http://www.generalmills.com</td>\n",
       "      <td>Food &amp; Beverages</td>\n",
       "      <td>Consumer Non-Cyclicals</td>\n",
       "      <td>Food Processing</td>\n",
       "      <td>Food &amp; Tobacco</td>\n",
       "    </tr>\n",
       "    <tr>\n",
       "      <th>2</th>\n",
       "      <td>3</td>\n",
       "      <td>Ecolab Inc.</td>\n",
       "      <td>4/17/17</td>\n",
       "      <td>8/20/08</td>\n",
       "      <td>Saint Paul</td>\n",
       "      <td>MN</td>\n",
       "      <td>US</td>\n",
       "      <td>23051.0</td>\n",
       "      <td>ECL</td>\n",
       "      <td>ECL.N</td>\n",
       "      <td>ECL</td>\n",
       "      <td>http://www.ecolab.com</td>\n",
       "      <td>Chemicals</td>\n",
       "      <td>Basic Materials</td>\n",
       "      <td>Specialty Chemicals</td>\n",
       "      <td>Chemicals</td>\n",
       "    </tr>\n",
       "    <tr>\n",
       "      <th>3</th>\n",
       "      <td>5</td>\n",
       "      <td>Wilsons Leather</td>\n",
       "      <td>4/17/17</td>\n",
       "      <td>11/14/08</td>\n",
       "      <td>Brooklyn Park</td>\n",
       "      <td>MN</td>\n",
       "      <td>US</td>\n",
       "      <td>108000693.0</td>\n",
       "      <td>PRVU</td>\n",
       "      <td>PRVU.PK</td>\n",
       "      <td>PRVU</td>\n",
       "      <td>http://www.wilsonsleather.com/</td>\n",
       "      <td>NaN</td>\n",
       "      <td>NaN</td>\n",
       "      <td>NaN</td>\n",
       "      <td>NaN</td>\n",
       "    </tr>\n",
       "    <tr>\n",
       "      <th>4</th>\n",
       "      <td>6</td>\n",
       "      <td>Hawkins Chemical</td>\n",
       "      <td>4/16/17</td>\n",
       "      <td>6/30/08</td>\n",
       "      <td>Minneapolis</td>\n",
       "      <td>MN</td>\n",
       "      <td>US</td>\n",
       "      <td>25234.0</td>\n",
       "      <td>HWKN</td>\n",
       "      <td>HWKN.OQ</td>\n",
       "      <td>HWKN</td>\n",
       "      <td>http://www.hawkinsinc.com</td>\n",
       "      <td>Chemicals</td>\n",
       "      <td>Basic Materials</td>\n",
       "      <td>Diversified Chemicals</td>\n",
       "      <td>Chemicals</td>\n",
       "    </tr>\n",
       "  </tbody>\n",
       "</table>\n",
       "</div>"
      ],
      "text/plain": [
       "   company_id                 name last_scrape_date first_scrape_date  \\\n",
       "0           1               Target          4/17/17          12/11/07   \n",
       "1           2  General Mills  Inc.          4/17/17          11/24/07   \n",
       "2           3          Ecolab Inc.          4/17/17           8/20/08   \n",
       "3           5      Wilsons Leather          4/17/17          11/14/08   \n",
       "4           6     Hawkins Chemical          4/16/17           6/30/08   \n",
       "\n",
       "            city state country  ticker_main ticker_ric entity_id bloomberg_id  \\\n",
       "0    Minneapolis    MN      US      22560.0        TGT     TGT.N          TGT   \n",
       "1    Minneapolis    MN      US      24428.0        GIS     GIS.N          GIS   \n",
       "2     Saint Paul    MN      US      23051.0        ECL     ECL.N          ECL   \n",
       "3  Brooklyn Park    MN      US  108000693.0       PRVU   PRVU.PK         PRVU   \n",
       "4    Minneapolis    MN      US      25234.0       HWKN   HWKN.OQ         HWKN   \n",
       "\n",
       "                     scraping_url trc_business_sector     trc_economic_sector  \\\n",
       "0           http://www.target.com           Retailers      Consumer Cyclicals   \n",
       "1     http://www.generalmills.com    Food & Beverages  Consumer Non-Cyclicals   \n",
       "2           http://www.ecolab.com           Chemicals         Basic Materials   \n",
       "3  http://www.wilsonsleather.com/                 NaN                     NaN   \n",
       "4       http://www.hawkinsinc.com           Chemicals         Basic Materials   \n",
       "\n",
       "     trc_industry_sector  trc_industry_group  \n",
       "0        Discount Stores  Diversified Retail  \n",
       "1        Food Processing      Food & Tobacco  \n",
       "2    Specialty Chemicals           Chemicals  \n",
       "3                    NaN                 NaN  \n",
       "4  Diversified Chemicals           Chemicals  "
      ]
     },
     "execution_count": 3,
     "metadata": {},
     "output_type": "execute_result"
    }
   ],
   "source": [
    "companies.head()"
   ]
  },
  {
   "cell_type": "code",
   "execution_count": 4,
   "metadata": {
    "collapsed": false
   },
   "outputs": [
    {
     "data": {
      "text/html": [
       "<div>\n",
       "<table border=\"1\" class=\"dataframe\">\n",
       "  <thead>\n",
       "    <tr style=\"text-align: right;\">\n",
       "      <th></th>\n",
       "      <th>company_id</th>\n",
       "      <th>name</th>\n",
       "      <th>last_scrape_date</th>\n",
       "      <th>first_scrape_date</th>\n",
       "      <th>city</th>\n",
       "      <th>state</th>\n",
       "      <th>country</th>\n",
       "      <th>ticker_main</th>\n",
       "      <th>ticker_ric</th>\n",
       "      <th>entity_id</th>\n",
       "      <th>bloomberg_id</th>\n",
       "      <th>scraping_url</th>\n",
       "      <th>trc_business_sector</th>\n",
       "      <th>trc_economic_sector</th>\n",
       "      <th>trc_industry_sector</th>\n",
       "      <th>trc_industry_group</th>\n",
       "    </tr>\n",
       "  </thead>\n",
       "  <tbody>\n",
       "    <tr>\n",
       "      <th>0</th>\n",
       "      <td>1</td>\n",
       "      <td>Target</td>\n",
       "      <td>4/17/17</td>\n",
       "      <td>12/11/07</td>\n",
       "      <td>Minneapolis</td>\n",
       "      <td>MN</td>\n",
       "      <td>US</td>\n",
       "      <td>22560.0</td>\n",
       "      <td>TGT</td>\n",
       "      <td>TGT.N</td>\n",
       "      <td>TGT</td>\n",
       "      <td>http://www.target.com</td>\n",
       "      <td>Retailers</td>\n",
       "      <td>Consumer Cyclicals</td>\n",
       "      <td>Discount Stores</td>\n",
       "      <td>Diversified Retail</td>\n",
       "    </tr>\n",
       "    <tr>\n",
       "      <th>22508</th>\n",
       "      <td>28031</td>\n",
       "      <td>Target</td>\n",
       "      <td>4/16/17</td>\n",
       "      <td>5/8/13</td>\n",
       "      <td>Melbourne</td>\n",
       "      <td>State of Victoria</td>\n",
       "      <td>AU</td>\n",
       "      <td>102033625.0</td>\n",
       "      <td>TEX.AX</td>\n",
       "      <td>TEX.AX</td>\n",
       "      <td>NaN</td>\n",
       "      <td>http://www.target.com.au/</td>\n",
       "      <td>Energy - Fossil Fuels</td>\n",
       "      <td>Energy</td>\n",
       "      <td>Oil &amp; Gas Exploration and Production</td>\n",
       "      <td>Oil &amp; Gas</td>\n",
       "    </tr>\n",
       "  </tbody>\n",
       "</table>\n",
       "</div>"
      ],
      "text/plain": [
       "       company_id    name last_scrape_date first_scrape_date         city  \\\n",
       "0               1  Target          4/17/17          12/11/07  Minneapolis   \n",
       "22508       28031  Target          4/16/17            5/8/13    Melbourne   \n",
       "\n",
       "                   state country  ticker_main ticker_ric entity_id  \\\n",
       "0                     MN      US      22560.0        TGT     TGT.N   \n",
       "22508  State of Victoria      AU  102033625.0     TEX.AX    TEX.AX   \n",
       "\n",
       "      bloomberg_id               scraping_url    trc_business_sector  \\\n",
       "0              TGT      http://www.target.com              Retailers   \n",
       "22508          NaN  http://www.target.com.au/  Energy - Fossil Fuels   \n",
       "\n",
       "      trc_economic_sector                   trc_industry_sector  \\\n",
       "0      Consumer Cyclicals                       Discount Stores   \n",
       "22508              Energy  Oil & Gas Exploration and Production   \n",
       "\n",
       "       trc_industry_group  \n",
       "0      Diversified Retail  \n",
       "22508           Oil & Gas  "
      ]
     },
     "execution_count": 4,
     "metadata": {},
     "output_type": "execute_result"
    }
   ],
   "source": [
    "companies[companies.name==\"Target\"]"
   ]
  },
  {
   "cell_type": "code",
   "execution_count": 5,
   "metadata": {
    "collapsed": false
   },
   "outputs": [],
   "source": [
    "jobs = pd.read_csv(\"https://s3-us-west-2.amazonaws.com/correlation1-public/DukeDatathon2017/jobs.csv.gz\", compression='gzip')"
   ]
  },
  {
   "cell_type": "code",
   "execution_count": 6,
   "metadata": {
    "collapsed": false
   },
   "outputs": [
    {
     "data": {
      "text/html": [
       "<div>\n",
       "<table border=\"1\" class=\"dataframe\">\n",
       "  <thead>\n",
       "    <tr style=\"text-align: right;\">\n",
       "      <th></th>\n",
       "      <th>id</th>\n",
       "      <th>company_id</th>\n",
       "      <th>company_name</th>\n",
       "      <th>title</th>\n",
       "      <th>created_date</th>\n",
       "      <th>last_checked_date</th>\n",
       "      <th>city</th>\n",
       "      <th>state</th>\n",
       "      <th>zip</th>\n",
       "      <th>country</th>\n",
       "      <th>category_id</th>\n",
       "      <th>category_name</th>\n",
       "    </tr>\n",
       "  </thead>\n",
       "  <tbody>\n",
       "    <tr>\n",
       "      <th>0</th>\n",
       "      <td>000000082858d2d0b2c0d9a130cdf016</td>\n",
       "      <td>11198</td>\n",
       "      <td>Aaron's  Inc</td>\n",
       "      <td>Customer Service Representative</td>\n",
       "      <td>2016-04-09</td>\n",
       "      <td>2016-04-18</td>\n",
       "      <td>Anderson</td>\n",
       "      <td>SC</td>\n",
       "      <td>29626.0</td>\n",
       "      <td>US</td>\n",
       "      <td>35</td>\n",
       "      <td>Customer Service</td>\n",
       "    </tr>\n",
       "    <tr>\n",
       "      <th>1</th>\n",
       "      <td>00000520d6171c37caac84175c482fd0</td>\n",
       "      <td>371</td>\n",
       "      <td>Sears Holdings Corporation</td>\n",
       "      <td>Sr. Counsel  Vendor Management and Specialty R...</td>\n",
       "      <td>2008-12-06</td>\n",
       "      <td>2008-12-06</td>\n",
       "      <td>Schaumburg</td>\n",
       "      <td>IL</td>\n",
       "      <td>60196.0</td>\n",
       "      <td>US</td>\n",
       "      <td>127</td>\n",
       "      <td>Retail</td>\n",
       "    </tr>\n",
       "    <tr>\n",
       "      <th>2</th>\n",
       "      <td>0000078d0016e320c88a93c2b3214457</td>\n",
       "      <td>4202</td>\n",
       "      <td>Community Health System</td>\n",
       "      <td>Support Services Team Specialist</td>\n",
       "      <td>2016-08-01</td>\n",
       "      <td>2016-08-08</td>\n",
       "      <td>Fort Wayne</td>\n",
       "      <td>IN</td>\n",
       "      <td>46801.0</td>\n",
       "      <td>US</td>\n",
       "      <td>98</td>\n",
       "      <td>Maintenance &amp; Repair</td>\n",
       "    </tr>\n",
       "    <tr>\n",
       "      <th>3</th>\n",
       "      <td>00000b134a1e36de0f7ce6de06bb95fe</td>\n",
       "      <td>4503</td>\n",
       "      <td>Tenet Healthcare Corporation</td>\n",
       "      <td>CERTIFIED NURSING ASST MED&amp;#92;TELE FULL TIME ...</td>\n",
       "      <td>2010-06-28</td>\n",
       "      <td>2010-07-05</td>\n",
       "      <td>Delray Beach</td>\n",
       "      <td>FL</td>\n",
       "      <td>33444.0</td>\n",
       "      <td>US</td>\n",
       "      <td>50</td>\n",
       "      <td>Health &amp; Medical</td>\n",
       "    </tr>\n",
       "    <tr>\n",
       "      <th>4</th>\n",
       "      <td>00000b7009c78a8a609c98c83443dd08</td>\n",
       "      <td>4503</td>\n",
       "      <td>Tenet Healthcare Corporation</td>\n",
       "      <td>TECH-ULTRASOUND - PER DIEM</td>\n",
       "      <td>2009-08-01</td>\n",
       "      <td>2009-08-03</td>\n",
       "      <td>West Palm Beach</td>\n",
       "      <td>FL</td>\n",
       "      <td>33412.0</td>\n",
       "      <td>US</td>\n",
       "      <td>0</td>\n",
       "      <td>NaN</td>\n",
       "    </tr>\n",
       "  </tbody>\n",
       "</table>\n",
       "</div>"
      ],
      "text/plain": [
       "                                 id  company_id                  company_name  \\\n",
       "0  000000082858d2d0b2c0d9a130cdf016       11198                  Aaron's  Inc   \n",
       "1  00000520d6171c37caac84175c482fd0         371    Sears Holdings Corporation   \n",
       "2  0000078d0016e320c88a93c2b3214457        4202       Community Health System   \n",
       "3  00000b134a1e36de0f7ce6de06bb95fe        4503  Tenet Healthcare Corporation   \n",
       "4  00000b7009c78a8a609c98c83443dd08        4503  Tenet Healthcare Corporation   \n",
       "\n",
       "                                               title created_date  \\\n",
       "0                    Customer Service Representative   2016-04-09   \n",
       "1  Sr. Counsel  Vendor Management and Specialty R...   2008-12-06   \n",
       "2                   Support Services Team Specialist   2016-08-01   \n",
       "3  CERTIFIED NURSING ASST MED&#92;TELE FULL TIME ...   2010-06-28   \n",
       "4                         TECH-ULTRASOUND - PER DIEM   2009-08-01   \n",
       "\n",
       "  last_checked_date             city state      zip country  category_id  \\\n",
       "0        2016-04-18         Anderson    SC  29626.0      US           35   \n",
       "1        2008-12-06       Schaumburg    IL  60196.0      US          127   \n",
       "2        2016-08-08       Fort Wayne    IN  46801.0      US           98   \n",
       "3        2010-07-05     Delray Beach    FL  33444.0      US           50   \n",
       "4        2009-08-03  West Palm Beach    FL  33412.0      US            0   \n",
       "\n",
       "          category_name  \n",
       "0      Customer Service  \n",
       "1                Retail  \n",
       "2  Maintenance & Repair  \n",
       "3      Health & Medical  \n",
       "4                   NaN  "
      ]
     },
     "execution_count": 6,
     "metadata": {},
     "output_type": "execute_result"
    }
   ],
   "source": [
    "jobs.head()"
   ]
  },
  {
   "cell_type": "markdown",
   "metadata": {},
   "source": [
    "### Demonstration plot: How has the number of new job postings in technology changed over time?\n",
    "\n",
    "We will produce a plot in two steps:\n",
    "1. Take the jobs data and filter it by job category for technology\n",
    "2. Group the filtered data by create_date, take daily counts, and then create a 2-D plot"
   ]
  },
  {
   "cell_type": "code",
   "execution_count": 7,
   "metadata": {
    "collapsed": false
   },
   "outputs": [],
   "source": [
    "jobs_in_tech = jobs[jobs.category_name=='Technology']\n",
    "by_day = jobs_in_tech.groupby('created_date')"
   ]
  },
  {
   "cell_type": "code",
   "execution_count": 8,
   "metadata": {
    "collapsed": false
   },
   "outputs": [
    {
     "data": {
      "text/plain": [
       "<matplotlib.text.Text at 0x169641190>"
      ]
     },
     "execution_count": 8,
     "metadata": {},
     "output_type": "execute_result"
    },
    {
     "data": {
      "image/png": "[encoded data removed]",
      "text/plain": [
       "<matplotlib.figure.Figure at 0x16ff2cf10>"
      ]
     },
     "metadata": {},
     "output_type": "display_data"
    }
   ],
   "source": [
    "ax = by_day['category_name'].count().plot()\n",
    "ax.set_xlabel('Time')\n",
    "ax.set_ylabel('Daily counts of new job postings')"
   ]
  }
 ],
 "metadata": {
  "anaconda-cloud": {},
  "kernelspec": {
   "display_name": "Python [conda root]",
   "language": "python",
   "name": "conda-root-py"
  },
  "language_info": {
   "codemirror_mode": {
    "name": "ipython",
    "version": 3
   },
   "file_extension": ".py",
   "mimetype": "text/x-python",
   "name": "python",
   "nbconvert_exporter": "python",
   "pygments_lexer": "ipython3",
   "version": "3.5.2"
  }
 },
 "nbformat": 4,
 "nbformat_minor": 1
}
